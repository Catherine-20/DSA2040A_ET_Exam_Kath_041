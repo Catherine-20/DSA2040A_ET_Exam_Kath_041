{
 "cells": [
  {
   "cell_type": "code",
   "execution_count": null,
   "id": "c17c4d70",
   "metadata": {},
   "outputs": [],
   "source": []
  }
 ],
 "metadata": {
  "language_info": {
   "name": "python"
  }
 },
 "nbformat": 4,
 "nbformat_minor": 5
}
